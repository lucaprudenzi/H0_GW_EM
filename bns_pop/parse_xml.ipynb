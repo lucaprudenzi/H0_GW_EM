{
 "cells": [
  {
   "cell_type": "code",
   "execution_count": 22,
   "source": [
    "from gwpy.table import Table\n",
    "from scipy.stats import ncx2, norm, truncnorm\n",
    "import matplotlib.pyplot as plt\n",
    "import numpy as np\n",
    "%matplotlib inline"
   ],
   "outputs": [],
   "metadata": {}
  },
  {
   "cell_type": "code",
   "execution_count": 29,
   "source": [
    "table = Table.read(\"coinc_10000.xml\", format=\"ligolw\", tablename=\"sim_inspiral\")\n",
    "inc = []\n",
    "d = []\n",
    "a=0\n",
    "for i in range(442):\n",
    "    inc.append(table[i]['inclination']*180/np.pi)\n",
    "    d.append(table[i]['distance'])\n",
    "    if inc[i]<7 or inc[i]>173:\n",
    "        a=a+1\n",
    "plt.hist(inc)\n",
    "plt.show()\n",
    "plt.hist(d)\n",
    "plt.show()\n",
    "\n"
   ],
   "outputs": [
    {
     "output_type": "display_data",
     "data": {
      "image/png": "[encoded data removed]",
      "text/plain": [
       "<Figure size 432x288 with 1 Axes>"
      ]
     },
     "metadata": {
      "needs_background": "light"
     }
    },
    {
     "output_type": "display_data",
     "data": {
      "image/png": "[encoded data removed]",
      "text/plain": [
       "<Figure size 432x288 with 1 Axes>"
      ]
     },
     "metadata": {
      "needs_background": "light"
     }
    }
   ],
   "metadata": {}
  },
  {
   "cell_type": "code",
   "execution_count": null,
   "source": [
    "z = 1e-4\n",
    "sigma = 1e-3\n",
    "a = (0.0 - z) / sigma # boundary so samples don't go below 0\n",
    "zsmear = truncnorm.rvs(a, 5, loc=z, scale=sigma, size=10000)\n",
    "plt.hist(zsmear)"
   ],
   "outputs": [],
   "metadata": {}
  }
 ],
 "metadata": {
  "orig_nbformat": 4,
  "language_info": {
   "name": "python",
   "version": "3.8.12",
   "mimetype": "text/x-python",
   "codemirror_mode": {
    "name": "ipython",
    "version": 3
   },
   "pygments_lexer": "ipython3",
   "nbconvert_exporter": "python",
   "file_extension": ".py"
  },
  "kernelspec": {
   "name": "python3",
   "display_name": "Python 3.8.12 64-bit ('igwn-38-local': conda)"
  },
  "interpreter": {
   "hash": "b1c3a59beaf01252dde194cb0369d2301655e0dcc8f6cffbc6268068895d8c6c"
  }
 },
 "nbformat": 4,
 "nbformat_minor": 2
}